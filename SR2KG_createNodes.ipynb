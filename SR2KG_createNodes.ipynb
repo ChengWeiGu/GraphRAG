{
 "cells": [
  {
   "cell_type": "code",
   "execution_count": 1,
   "metadata": {},
   "outputs": [],
   "source": [
    "import os\n",
    "import time\n",
    "import pyodbc\n",
    "import textwrap\n",
    "import pandas as pd\n",
    "from tqdm import tqdm\n",
    "from datetime import datetime\n",
    "from IPython.core.display import HTML\n",
    "\n",
    "from dotenv import load_dotenv\n",
    "from langchain_community.graphs import Neo4jGraph\n",
    "from langchain_community.vectorstores import Neo4jVector\n",
    "from langchain_openai import AzureOpenAIEmbeddings, AzureChatOpenAI\n",
    "from langchain.chains import RetrievalQAWithSourcesChain\n",
    "\n",
    "# Warning control\n",
    "import warnings\n",
    "warnings.filterwarnings(\"ignore\")"
   ]
  },
  {
   "cell_type": "markdown",
   "metadata": {},
   "source": [
    "- Install relavant pkgs\n",
    "- ! pip install --upgrade langchain langchain_community langchain-openai\n",
    "- ! pip install neo4j"
   ]
  },
  {
   "cell_type": "code",
   "execution_count": 2,
   "metadata": {},
   "outputs": [],
   "source": [
    "load_dotenv('.env.studiomac', override=True)\n",
    "\n",
    "NEO4J_URI = os.getenv('NEO4J_URI')\n",
    "NEO4J_USERNAME = os.getenv('NEO4J_USERNAME')\n",
    "NEO4J_PASSWORD = os.getenv('NEO4J_PASSWORD')\n",
    "NEO4J_DATABASE = os.getenv('NEO4J_DATABASE')\n",
    "\n",
    "AZURE_RESOURCE_NAME=os.getenv('AZURE_RESOURCE_NAME')\n",
    "AZURE_ENDPOINT=os.getenv('AZURE_ENDPOINT')\n",
    "AZURE_API_KEY1=os.getenv('AZURE_API_KEY1')\n",
    "AZURE_API_KEY2=os.getenv('AZURE_API_KEY2')\n",
    "AZURE_EMBED_DEPLOYMENT=os.getenv('AZURE_EMBED_DEPLOYMENT')\n",
    "AZURE_CHATGPT_DEPLOYMENT=os.getenv('AZURE_CHATGPT_DEPLOYMENT')\n",
    "AZURE_OPENAI_API_VERSION=os.getenv('AZURE_OPENAI_API_VERSION')\n",
    "\n",
    "SR_DATABASE=os.getenv('SR_DATABASE')\n",
    "SR_SERVER=os.getenv('SR_SERVER')\n",
    "SR_USERNAME=os.getenv('SR_USERNAME')\n",
    "SR_PASSWORD=os.getenv('SR_PASSWORD')\n",
    "SR_DRIVER=os.getenv('SR_DRIVER')"
   ]
  },
  {
   "cell_type": "markdown",
   "metadata": {},
   "source": [
    "## Acquire the Data from MS SQL"
   ]
  },
  {
   "cell_type": "code",
   "execution_count": 3,
   "metadata": {},
   "outputs": [],
   "source": [
    "# azquire service request data from MSSQL\n",
    "connect_str=\"Driver={%s};Server=%s;Database=%s;uid=%s;pwd=%s\" % (SR_DRIVER,\n",
    "                                                                 SR_SERVER,\n",
    "                                                                 SR_DATABASE,\n",
    "                                                                 SR_USERNAME,\n",
    "                                                                 SR_PASSWORD)\n",
    "# in this case, turn off the word-length filter\n",
    "def select_tbl_customized(where_condition=None):\n",
    "    strSQL=\"\"\"WITH CTE0 AS (\n",
    "                SELECT * FROM [Weintek_Web].[dbo].[SR_Files]\n",
    "                WHERE SR_Message_Uid = 1\n",
    "                ), CTE1 AS (\n",
    "                SELECT \n",
    "                it.SR_Uid, it.SR_Message_Uid, it.SR_Uid+'_'+ CONVERT(VARCHAR,it.SR_Message_Uid) AS PK,it.User_Uid, h.Created_UserIP, it.Post_Date, it.SR_Message, it.SR_Reply, it.SR_Replier, it.SR_ReplyDate, it.SR_ReplyFile, it.SR_ReplyFileName,\n",
    "                h.SR_Subject, h.SR_Status, h.EmailNotify, h.SR_Category, h.Created_Date, h.Posts, h.Replies, h.SN, h.MODEL, h.OS, h.Firmware_Version, h.PLC, h.Driver, h.PLC_IF, \n",
    "                h.HMI_COMport, h.Baud_Rate, h.Data_bits, h.Parity, h.Stop_bits, h.Delay, h.LastUpdate_User, h.LastUpdate_Date, h.SR_PType, h.SR_PUid, h.SR_Replier as SR_ORG_Replier,\n",
    "                f.SR_Files1, f.SR_Files1_Name, f.SR_Files1_Date,\n",
    "                CASE WHEN h.LastUpdate_Date >= DATEADD(DAY,-14,GETDATE()) and h.SR_Status = 'Replied' THEN 'N' ELSE 'Y' END AS Recall_Replied\n",
    "                FROM [Weintek_Web].[dbo].[SR_Message] it\n",
    "                LEFT JOIN [Weintek_Web].[dbo].[SR_Thread] h ON it.SR_Uid = h.SR_Uid\n",
    "                LEFT JOIN [Weintek_Web].[dbo].[SR_Files] f ON it.SR_Uid = f.SR_Uid AND it.SR_Message_Uid = f.SR_Message_Uid\n",
    "                WHERE h.SR_Status in ('Closed','Replied') AND h.SR_Replier <> 'seanhuang'\n",
    "                AND it.SR_Uid not in (SELECT CTE0.SR_Uid FROM CTE0)\n",
    "                /*AND LEN(it.SR_Message) > 60 AND LEN(it.SR_Reply) > 60*/\n",
    "                )\n",
    "                SELECT * FROM CTE1\n",
    "                WHERE CTE1.Recall_Replied = 'Y'\"\"\"\n",
    "    if where_condition is not None:\n",
    "        strSQL+=f\" AND {where_condition}\"\n",
    "    conn = pyodbc.connect(connect_str)\n",
    "    cursor = conn.cursor()\n",
    "    df = pd.read_sql(strSQL,conn)\n",
    "    cursor.close()\n",
    "    conn.close()\n",
    "    return df"
   ]
  },
  {
   "cell_type": "code",
   "execution_count": 4,
   "metadata": {},
   "outputs": [
    {
     "data": {
      "text/html": [
       "<div>\n",
       "<style scoped>\n",
       "    .dataframe tbody tr th:only-of-type {\n",
       "        vertical-align: middle;\n",
       "    }\n",
       "\n",
       "    .dataframe tbody tr th {\n",
       "        vertical-align: top;\n",
       "    }\n",
       "\n",
       "    .dataframe thead th {\n",
       "        text-align: right;\n",
       "    }\n",
       "</style>\n",
       "<table border=\"1\" class=\"dataframe\">\n",
       "  <thead>\n",
       "    <tr style=\"text-align: right;\">\n",
       "      <th></th>\n",
       "      <th>SR_Uid</th>\n",
       "      <th>SR_Message_Uid</th>\n",
       "      <th>PK</th>\n",
       "      <th>User_Uid</th>\n",
       "      <th>Created_UserIP</th>\n",
       "      <th>Post_Date</th>\n",
       "      <th>SR_Message</th>\n",
       "      <th>SR_Reply</th>\n",
       "      <th>SR_Replier</th>\n",
       "      <th>SR_ReplyDate</th>\n",
       "      <th>...</th>\n",
       "      <th>Delay</th>\n",
       "      <th>LastUpdate_User</th>\n",
       "      <th>LastUpdate_Date</th>\n",
       "      <th>SR_PType</th>\n",
       "      <th>SR_PUid</th>\n",
       "      <th>SR_ORG_Replier</th>\n",
       "      <th>SR_Files1</th>\n",
       "      <th>SR_Files1_Name</th>\n",
       "      <th>SR_Files1_Date</th>\n",
       "      <th>Recall_Replied</th>\n",
       "    </tr>\n",
       "  </thead>\n",
       "  <tbody>\n",
       "    <tr>\n",
       "      <th>0</th>\n",
       "      <td>20091207_0004</td>\n",
       "      <td>1</td>\n",
       "      <td>20091207_0004_1</td>\n",
       "      <td>Hades</td>\n",
       "      <td>77.78.151.5</td>\n",
       "      <td>2009-12-08 08:58:44.913</td>\n",
       "      <td>&lt;br /&gt;\\r\\nDear sirs,&lt;br /&gt;\\r\\n&lt;br /&gt;\\r\\nWe hav...</td>\n",
       "      <td>Dear Sir, &lt;br /&gt;\\r\\n1. MT6070iH is not able to...</td>\n",
       "      <td>Cino</td>\n",
       "      <td>2009-12-15 10:23:20.980</td>\n",
       "      <td>...</td>\n",
       "      <td></td>\n",
       "      <td>Cino</td>\n",
       "      <td>2009-12-15 10:23:20.980</td>\n",
       "      <td>MT6000/8000</td>\n",
       "      <td>MT6070iH</td>\n",
       "      <td>Tina0604</td>\n",
       "      <td>None</td>\n",
       "      <td>None</td>\n",
       "      <td>NaT</td>\n",
       "      <td>Y</td>\n",
       "    </tr>\n",
       "    <tr>\n",
       "      <th>1</th>\n",
       "      <td>20091207_0004</td>\n",
       "      <td>2</td>\n",
       "      <td>20091207_0004_2</td>\n",
       "      <td>Hades</td>\n",
       "      <td>77.78.151.5</td>\n",
       "      <td>2009-12-08 20:09:46.443</td>\n",
       "      <td>&amp;nbsp;Dear Tina,&lt;br /&gt;\\n&amp;nbsp;Thank you for yo...</td>\n",
       "      <td>Dear Stefan,&lt;br /&gt;\\r\\n&lt;br /&gt;\\r\\nFor MT6070iH t...</td>\n",
       "      <td>Cino</td>\n",
       "      <td>2009-12-15 10:11:30.183</td>\n",
       "      <td>...</td>\n",
       "      <td></td>\n",
       "      <td>Cino</td>\n",
       "      <td>2009-12-15 10:23:20.980</td>\n",
       "      <td>MT6000/8000</td>\n",
       "      <td>MT6070iH</td>\n",
       "      <td>Tina0604</td>\n",
       "      <td>None</td>\n",
       "      <td>None</td>\n",
       "      <td>NaT</td>\n",
       "      <td>Y</td>\n",
       "    </tr>\n",
       "    <tr>\n",
       "      <th>2</th>\n",
       "      <td>20091208_0001</td>\n",
       "      <td>1</td>\n",
       "      <td>20091208_0001_1</td>\n",
       "      <td>Budi</td>\n",
       "      <td>192.168.1.254</td>\n",
       "      <td>2009-12-08 11:19:48.380</td>\n",
       "      <td>Dear Sir,&lt;br /&gt;\\r\\n&lt;br /&gt;\\r\\nHow are you?&lt;br /...</td>\n",
       "      <td>MT8000 series 123gjg</td>\n",
       "      <td>Cino</td>\n",
       "      <td>2010-01-25 11:18:27.970</td>\n",
       "      <td>...</td>\n",
       "      <td></td>\n",
       "      <td>Cino</td>\n",
       "      <td>2010-01-25 11:18:53.563</td>\n",
       "      <td>MT6000/8000</td>\n",
       "      <td>MT6050i</td>\n",
       "      <td>nicolas</td>\n",
       "      <td>None</td>\n",
       "      <td>None</td>\n",
       "      <td>NaT</td>\n",
       "      <td>Y</td>\n",
       "    </tr>\n",
       "    <tr>\n",
       "      <th>3</th>\n",
       "      <td>20091208_0001</td>\n",
       "      <td>2</td>\n",
       "      <td>20091208_0001_2</td>\n",
       "      <td>Budi</td>\n",
       "      <td>192.168.1.254</td>\n",
       "      <td>2009-12-08 14:28:47.287</td>\n",
       "      <td>Dear Sir,&lt;br /&gt;\\r\\n&lt;br /&gt;\\r\\nvery thank you fo...</td>\n",
       "      <td>123 re tyytjhgj</td>\n",
       "      <td>Cino</td>\n",
       "      <td>2010-01-25 11:18:53.563</td>\n",
       "      <td>...</td>\n",
       "      <td></td>\n",
       "      <td>Cino</td>\n",
       "      <td>2010-01-25 11:18:53.563</td>\n",
       "      <td>MT6000/8000</td>\n",
       "      <td>MT6050i</td>\n",
       "      <td>nicolas</td>\n",
       "      <td>None</td>\n",
       "      <td>None</td>\n",
       "      <td>NaT</td>\n",
       "      <td>Y</td>\n",
       "    </tr>\n",
       "    <tr>\n",
       "      <th>4</th>\n",
       "      <td>20091208_0001</td>\n",
       "      <td>3</td>\n",
       "      <td>20091208_0001_3</td>\n",
       "      <td>Budi</td>\n",
       "      <td>192.168.1.254</td>\n",
       "      <td>2009-12-08 14:29:05.897</td>\n",
       "      <td>Dear Sir,&lt;br /&gt;\\r\\n&lt;br /&gt;\\r\\nvery thank you fo...</td>\n",
       "      <td>123 re tyytjhgj</td>\n",
       "      <td>Cino</td>\n",
       "      <td>2010-01-25 11:18:49.767</td>\n",
       "      <td>...</td>\n",
       "      <td></td>\n",
       "      <td>Cino</td>\n",
       "      <td>2010-01-25 11:18:53.563</td>\n",
       "      <td>MT6000/8000</td>\n",
       "      <td>MT6050i</td>\n",
       "      <td>nicolas</td>\n",
       "      <td>None</td>\n",
       "      <td>None</td>\n",
       "      <td>NaT</td>\n",
       "      <td>Y</td>\n",
       "    </tr>\n",
       "  </tbody>\n",
       "</table>\n",
       "<p>5 rows × 41 columns</p>\n",
       "</div>"
      ],
      "text/plain": [
       "          SR_Uid  SR_Message_Uid               PK User_Uid Created_UserIP  \\\n",
       "0  20091207_0004               1  20091207_0004_1    Hades    77.78.151.5   \n",
       "1  20091207_0004               2  20091207_0004_2    Hades    77.78.151.5   \n",
       "2  20091208_0001               1  20091208_0001_1     Budi  192.168.1.254   \n",
       "3  20091208_0001               2  20091208_0001_2     Budi  192.168.1.254   \n",
       "4  20091208_0001               3  20091208_0001_3     Budi  192.168.1.254   \n",
       "\n",
       "                Post_Date                                         SR_Message  \\\n",
       "0 2009-12-08 08:58:44.913  <br />\\r\\nDear sirs,<br />\\r\\n<br />\\r\\nWe hav...   \n",
       "1 2009-12-08 20:09:46.443  &nbsp;Dear Tina,<br />\\n&nbsp;Thank you for yo...   \n",
       "2 2009-12-08 11:19:48.380  Dear Sir,<br />\\r\\n<br />\\r\\nHow are you?<br /...   \n",
       "3 2009-12-08 14:28:47.287  Dear Sir,<br />\\r\\n<br />\\r\\nvery thank you fo...   \n",
       "4 2009-12-08 14:29:05.897  Dear Sir,<br />\\r\\n<br />\\r\\nvery thank you fo...   \n",
       "\n",
       "                                            SR_Reply SR_Replier  \\\n",
       "0  Dear Sir, <br />\\r\\n1. MT6070iH is not able to...       Cino   \n",
       "1  Dear Stefan,<br />\\r\\n<br />\\r\\nFor MT6070iH t...       Cino   \n",
       "2                               MT8000 series 123gjg       Cino   \n",
       "3                                    123 re tyytjhgj       Cino   \n",
       "4                                    123 re tyytjhgj       Cino   \n",
       "\n",
       "             SR_ReplyDate  ... Delay LastUpdate_User         LastUpdate_Date  \\\n",
       "0 2009-12-15 10:23:20.980  ...                  Cino 2009-12-15 10:23:20.980   \n",
       "1 2009-12-15 10:11:30.183  ...                  Cino 2009-12-15 10:23:20.980   \n",
       "2 2010-01-25 11:18:27.970  ...                  Cino 2010-01-25 11:18:53.563   \n",
       "3 2010-01-25 11:18:53.563  ...                  Cino 2010-01-25 11:18:53.563   \n",
       "4 2010-01-25 11:18:49.767  ...                  Cino 2010-01-25 11:18:53.563   \n",
       "\n",
       "      SR_PType   SR_PUid SR_ORG_Replier SR_Files1  SR_Files1_Name  \\\n",
       "0  MT6000/8000  MT6070iH       Tina0604      None            None   \n",
       "1  MT6000/8000  MT6070iH       Tina0604      None            None   \n",
       "2  MT6000/8000   MT6050i        nicolas      None            None   \n",
       "3  MT6000/8000   MT6050i        nicolas      None            None   \n",
       "4  MT6000/8000   MT6050i        nicolas      None            None   \n",
       "\n",
       "   SR_Files1_Date Recall_Replied  \n",
       "0             NaT              Y  \n",
       "1             NaT              Y  \n",
       "2             NaT              Y  \n",
       "3             NaT              Y  \n",
       "4             NaT              Y  \n",
       "\n",
       "[5 rows x 41 columns]"
      ]
     },
     "execution_count": 4,
     "metadata": {},
     "output_type": "execute_result"
    }
   ],
   "source": [
    "df_sr = select_tbl_customized()\n",
    "df_sr.head(5)"
   ]
  },
  {
   "cell_type": "markdown",
   "metadata": {},
   "source": [
    "- acquire thread id list and print the first thread id"
   ]
  },
  {
   "cell_type": "code",
   "execution_count": 5,
   "metadata": {},
   "outputs": [
    {
     "name": "stdout",
     "output_type": "stream",
     "text": [
      "20091207_0004\n"
     ]
    }
   ],
   "source": [
    "thread_id_list = set(df_sr.SR_Uid.to_list())\n",
    "thread_id_list = sorted(list(thread_id_list))\n",
    "first_thread_id = thread_id_list[0]\n",
    "print(first_thread_id)"
   ]
  },
  {
   "cell_type": "markdown",
   "metadata": {
    "vscode": {
     "languageId": "plaintext"
    }
   },
   "source": [
    "## Establish nodes and properties"
   ]
  },
  {
   "cell_type": "code",
   "execution_count": 6,
   "metadata": {},
   "outputs": [
    {
     "data": {
      "text/html": [
       "<img src=\".\\imgs\\kg1.png\" alt=\"kg Image\" width=\"500\"/>"
      ],
      "text/plain": [
       "<IPython.core.display.HTML object>"
      ]
     },
     "execution_count": 6,
     "metadata": {},
     "output_type": "execute_result"
    }
   ],
   "source": [
    "HTML('<img src=\".\\imgs\\kg1.png\" alt=\"kg Image\" width=\"500\"/>')"
   ]
  },
  {
   "cell_type": "markdown",
   "metadata": {},
   "source": [
    "- get first thread data"
   ]
  },
  {
   "cell_type": "code",
   "execution_count": 7,
   "metadata": {},
   "outputs": [
    {
     "data": {
      "text/html": [
       "<div>\n",
       "<style scoped>\n",
       "    .dataframe tbody tr th:only-of-type {\n",
       "        vertical-align: middle;\n",
       "    }\n",
       "\n",
       "    .dataframe tbody tr th {\n",
       "        vertical-align: top;\n",
       "    }\n",
       "\n",
       "    .dataframe thead th {\n",
       "        text-align: right;\n",
       "    }\n",
       "</style>\n",
       "<table border=\"1\" class=\"dataframe\">\n",
       "  <thead>\n",
       "    <tr style=\"text-align: right;\">\n",
       "      <th></th>\n",
       "      <th>SR_Uid</th>\n",
       "      <th>SR_Message_Uid</th>\n",
       "      <th>PK</th>\n",
       "      <th>User_Uid</th>\n",
       "      <th>Created_UserIP</th>\n",
       "      <th>Post_Date</th>\n",
       "      <th>SR_Message</th>\n",
       "      <th>SR_Reply</th>\n",
       "      <th>SR_Replier</th>\n",
       "      <th>SR_ReplyDate</th>\n",
       "      <th>...</th>\n",
       "      <th>Delay</th>\n",
       "      <th>LastUpdate_User</th>\n",
       "      <th>LastUpdate_Date</th>\n",
       "      <th>SR_PType</th>\n",
       "      <th>SR_PUid</th>\n",
       "      <th>SR_ORG_Replier</th>\n",
       "      <th>SR_Files1</th>\n",
       "      <th>SR_Files1_Name</th>\n",
       "      <th>SR_Files1_Date</th>\n",
       "      <th>Recall_Replied</th>\n",
       "    </tr>\n",
       "  </thead>\n",
       "  <tbody>\n",
       "    <tr>\n",
       "      <th>0</th>\n",
       "      <td>20091207_0004</td>\n",
       "      <td>1</td>\n",
       "      <td>20091207_0004_1</td>\n",
       "      <td>Hades</td>\n",
       "      <td>77.78.151.5</td>\n",
       "      <td>2009-12-08 08:58:44.913</td>\n",
       "      <td>&lt;br /&gt;\\r\\nDear sirs,&lt;br /&gt;\\r\\n&lt;br /&gt;\\r\\nWe hav...</td>\n",
       "      <td>Dear Sir, &lt;br /&gt;\\r\\n1. MT6070iH is not able to...</td>\n",
       "      <td>Cino</td>\n",
       "      <td>2009-12-15 10:23:20.980</td>\n",
       "      <td>...</td>\n",
       "      <td></td>\n",
       "      <td>Cino</td>\n",
       "      <td>2009-12-15 10:23:20.980</td>\n",
       "      <td>MT6000/8000</td>\n",
       "      <td>MT6070iH</td>\n",
       "      <td>Tina0604</td>\n",
       "      <td>None</td>\n",
       "      <td>None</td>\n",
       "      <td>NaT</td>\n",
       "      <td>Y</td>\n",
       "    </tr>\n",
       "    <tr>\n",
       "      <th>1</th>\n",
       "      <td>20091207_0004</td>\n",
       "      <td>2</td>\n",
       "      <td>20091207_0004_2</td>\n",
       "      <td>Hades</td>\n",
       "      <td>77.78.151.5</td>\n",
       "      <td>2009-12-08 20:09:46.443</td>\n",
       "      <td>&amp;nbsp;Dear Tina,&lt;br /&gt;\\n&amp;nbsp;Thank you for yo...</td>\n",
       "      <td>Dear Stefan,&lt;br /&gt;\\r\\n&lt;br /&gt;\\r\\nFor MT6070iH t...</td>\n",
       "      <td>Cino</td>\n",
       "      <td>2009-12-15 10:11:30.183</td>\n",
       "      <td>...</td>\n",
       "      <td></td>\n",
       "      <td>Cino</td>\n",
       "      <td>2009-12-15 10:23:20.980</td>\n",
       "      <td>MT6000/8000</td>\n",
       "      <td>MT6070iH</td>\n",
       "      <td>Tina0604</td>\n",
       "      <td>None</td>\n",
       "      <td>None</td>\n",
       "      <td>NaT</td>\n",
       "      <td>Y</td>\n",
       "    </tr>\n",
       "  </tbody>\n",
       "</table>\n",
       "<p>2 rows × 41 columns</p>\n",
       "</div>"
      ],
      "text/plain": [
       "          SR_Uid  SR_Message_Uid               PK User_Uid Created_UserIP  \\\n",
       "0  20091207_0004               1  20091207_0004_1    Hades    77.78.151.5   \n",
       "1  20091207_0004               2  20091207_0004_2    Hades    77.78.151.5   \n",
       "\n",
       "                Post_Date                                         SR_Message  \\\n",
       "0 2009-12-08 08:58:44.913  <br />\\r\\nDear sirs,<br />\\r\\n<br />\\r\\nWe hav...   \n",
       "1 2009-12-08 20:09:46.443  &nbsp;Dear Tina,<br />\\n&nbsp;Thank you for yo...   \n",
       "\n",
       "                                            SR_Reply SR_Replier  \\\n",
       "0  Dear Sir, <br />\\r\\n1. MT6070iH is not able to...       Cino   \n",
       "1  Dear Stefan,<br />\\r\\n<br />\\r\\nFor MT6070iH t...       Cino   \n",
       "\n",
       "             SR_ReplyDate  ... Delay LastUpdate_User         LastUpdate_Date  \\\n",
       "0 2009-12-15 10:23:20.980  ...                  Cino 2009-12-15 10:23:20.980   \n",
       "1 2009-12-15 10:11:30.183  ...                  Cino 2009-12-15 10:23:20.980   \n",
       "\n",
       "      SR_PType   SR_PUid SR_ORG_Replier SR_Files1  SR_Files1_Name  \\\n",
       "0  MT6000/8000  MT6070iH       Tina0604      None            None   \n",
       "1  MT6000/8000  MT6070iH       Tina0604      None            None   \n",
       "\n",
       "   SR_Files1_Date Recall_Replied  \n",
       "0             NaT              Y  \n",
       "1             NaT              Y  \n",
       "\n",
       "[2 rows x 41 columns]"
      ]
     },
     "execution_count": 7,
     "metadata": {},
     "output_type": "execute_result"
    }
   ],
   "source": [
    "df_first = df_sr[df_sr.SR_Uid==first_thread_id].copy()\n",
    "df_first = df_first.sort_values(by='SR_Message_Uid')\n",
    "df_first.head()"
   ]
  },
  {
   "cell_type": "markdown",
   "metadata": {},
   "source": [
    "- Define a function to prepare metadata"
   ]
  },
  {
   "cell_type": "code",
   "execution_count": 8,
   "metadata": {},
   "outputs": [],
   "source": [
    "def build_sr_metadata(df:pd.DataFrame):\n",
    "    thread_metadata=[] # thread node\n",
    "    userProfile_metada=[] # user node\n",
    "    userModel_metadata=[] # model node\n",
    "    messages_metadata=[] # message node\n",
    "    thread_id_list = set(df.SR_Uid.to_list())\n",
    "    thread_id_list = sorted(list(thread_id_list))\n",
    "    # scan each thread id\n",
    "    for idx1, sr_uid in enumerate(thread_id_list):\n",
    "        df_sr_uid = df[df.SR_Uid == sr_uid].sort_values(by='SR_Message_Uid')\n",
    "        first_row = df_sr_uid.iloc[0]\n",
    "        thread_metadata.append({\"ThreadId\":sr_uid,\n",
    "                                \"Subject\":first_row['SR_Subject'],\n",
    "                                \"CreateDate\":first_row[\"Created_Date\"].isoformat(),\n",
    "                                \"Category\":first_row[\"SR_Category\"]})\n",
    "        user_uid = first_row['User_Uid']\n",
    "        userProfile_metada.append({\"UserId\":sr_uid + \"-\" + user_uid,\n",
    "                                   \"ThreadId\":sr_uid,\n",
    "                                   \"username\":user_uid,\n",
    "                                   \"country\":'',\n",
    "                                   \"userIP\":first_row[\"Created_UserIP\"]})\n",
    "        hmi_model = first_row['SR_PUid']\n",
    "        plc_model = first_row['PLC']\n",
    "        userModel_metadata.append({\"ModelId\":sr_uid + \"-\" + hmi_model + \"-\" + plc_model,\n",
    "                                   \"ThreadId\":sr_uid,\n",
    "                                   \"HMI_Model\":hmi_model,\n",
    "                                   \"HMI_COMport\":first_row['HMI_COMport'],\n",
    "                                   \"Firmware_Version\":first_row['Firmware_Version'],\n",
    "                                   \"OS_Version\":first_row['OS'],\n",
    "                                   \"SerialNo\":first_row['SN'],\n",
    "                                   \"PLC_Model\":plc_model,\n",
    "                                   \"Driver\":first_row['Driver'],\n",
    "                                   \"PLC_Connection\":first_row['PLC_IF']})\n",
    "        # scan each message in this thread, here we add source which is threadId. source will be used in RetrieveQA module\n",
    "        messages = []\n",
    "        for idx2, row in df_sr_uid.iterrows():\n",
    "            messages.append({\"MessageOrder\":row['SR_Message_Uid'],\n",
    "                            \"source\":sr_uid,\n",
    "                            \"PK\":row['PK'],\n",
    "                            \"PostDate\":row['Post_Date'].isoformat(),\n",
    "                            \"MessageText\":row['SR_Message'],\n",
    "                            \"ReplyText\":row['SR_Reply'],\n",
    "                            \"Replier\":row['SR_Replier'],\n",
    "                            \"ReplyDate\":row['SR_ReplyDate'].isoformat(),\n",
    "                            \"ReplyFile\":row['SR_ReplyFile']})\n",
    "        messages_metadata.append(messages)\n",
    "    return thread_metadata,userProfile_metada,userModel_metadata,messages_metadata"
   ]
  },
  {
   "cell_type": "markdown",
   "metadata": {},
   "source": [
    "- test this function on df_first"
   ]
  },
  {
   "cell_type": "code",
   "execution_count": 9,
   "metadata": {},
   "outputs": [
    {
     "name": "stdout",
     "output_type": "stream",
     "text": [
      "[{'ThreadId': '20091207_0004', 'Subject': 'Pass-through mode', 'CreateDate': '2009-12-07T23:00:06.053000', 'Category': 'Software'}]\n",
      "[{'UserId': '20091207_0004-Hades', 'ThreadId': '20091207_0004', 'username': 'Hades', 'country': '', 'userIP': '77.78.151.5'}]\n",
      "[{'ModelId': '20091207_0004-MT6070iH-Mitsubishi FX1N', 'ThreadId': '20091207_0004', 'HMI_Model': 'MT6070iH', 'HMI_COMport': '   ', 'Firmware_Version': 'MT8xxx(S3C) build 20091002', 'OS_Version': '', 'SerialNo': '09110371', 'PLC_Model': 'Mitsubishi FX1N', 'Driver': '', 'PLC_Connection': 'RS485 4W'}]\n",
      "[[{'MessageOrder': 1, 'source': '20091207_0004', 'PK': '20091207_0004_1', 'PostDate': '2009-12-08T08:58:44.913000', 'MessageText': '<br />\\r\\nDear sirs,<br />\\r\\n<br />\\r\\nWe have used MT506TV for 3 years.<br />\\r\\nNow I&nbsp;am exploring your new model MT6070iH, and I am trying to realize a connection between PC, HMI and PLC. HMI-PLC communication seems \\r\\r\\nOK, but the only posible connection for HMI project&nbsp;downloading I’m realizing is via&nbsp;USB ports. <span style=\"text-decoration: underline\">Is it \\r\\r\\nposible to program HMI via COM port?</span> In your file EB8000_Comport_PassThru_Test_List.pdf&nbsp; I found that communication between \\r\\r\\nmy&nbsp;PLC and PC in pass-through mode&nbsp;is posible but any cable connection&nbsp;I have tried do not&nbsp;establish&nbsp;connection. <span \\r\\r\\nstyle=\"text-decoration: underline\">Why EB8000 Project Manager (v.3.32) need a IP to realyze a serial communicatoin?</span> In Pass-through mode I \\r\\r\\nexpect to download project to HMI and PLC via one cable connected to the HMI. <span style=\"text-decoration: underline\">Am I right?</span> The HMI will be \\r\\r\\nmounted on&nbsp;operator’s panel with 5 push buttons on the side of HMI communication ports, so it is impossible to use USB cable for project \\r\\r\\ndownloading.&nbsp;<span style=\"text-decoration: underline\">Could you give me any advise how to wire and program HMI via COM port, as I have done with \\r\\r\\nMT506TV model?</span><br />\\r\\n<br />\\r\\nBest Regards<br />\\r\\nStefan Mihaylov', 'ReplyText': 'Dear Sir, <br />\\r\\n1. MT6070iH is not able to program HMI via COM port.  You can use USB cable or USB stick to downlaod project to HMI.  Pass-through function is not for users to download project. <br />\\r\\n2. There are two ways to enable COM port mode of  pass-through function.<br />\\r\\n(1)Use Project Manager<br />\\r\\n(2)Use LW-9901 and LW9902 <br />\\r\\n<br />\\r\\nLW-9901: source COM port (1~3: COM1~COM3)<br />\\r\\nLW-9902: destination COM port (1~3: COM1~COM3) <br />\\r\\n<br />\\r\\nFor MT6070iH, you only can use LW-9901 and  LW9902 to use COM Port pass-through  because MT6000 series do not have Ethernet function.  Please refer chapter 29 from below link for further information. <br />\\r\\n<br />\\r\\nftp://ftp.weintek.com/MT8000/eng/UserManual/UserManual_separate_chapter/Chapter_29_Pass_Through_Function.pdf <br />\\r\\n<br />\\r\\nBest regards,<br />\\r\\nTina', 'Replier': 'Cino', 'ReplyDate': '2009-12-15T10:23:20.980000', 'ReplyFile': None}, {'MessageOrder': 2, 'source': '20091207_0004', 'PK': '20091207_0004_2', 'PostDate': '2009-12-08T20:09:46.443000', 'MessageText': \"&nbsp;Dear Tina,<br />\\n&nbsp;Thank you for your prompt reply.<br />\\n&nbsp;I read carefully the chapter 29 and the HMI installation manual yesterday but there is no detail information about required cables except RZC002320 and RZC004850.<br />\\n <br />\\nIn my pass-through experiments I changed the internal HMI IP to 192.168.10.10 manually and entered this in corresponding project manager field. I made three different connection cables between HMI, PLC and PC<br />\\n&nbsp;- HMI to PLC - COM1 RS485 to MiniDin as shown in corresponding PLC connection manual - the communication seems works as it is expected.<br />\\n&nbsp;- 1. HMI to PC &nbsp;- COM3 RS232 (5-5,7-3,8-2) - RZC004850 P1-P4 - this crossover connection looks abnormal<br />\\n&nbsp; &nbsp;2.&nbsp;HMI to PC &nbsp;- COM3 RS232 (5-5,7-2,8-3) <br />\\n&nbsp; &nbsp;3. HMI to PC &nbsp;- COM2 RS232 (5-5,4-3,6-2) - RZC002320 P1-P3<br />\\n<br />\\nThe project manager button &quot;Get HMI communication settings&quot; returned a &quot;fail&quot; message in the above connections. Why a HMI IP is required for COM port serial communication?&nbsp;<br />\\n<br />\\nI used USB-to-COM converter on my PC and it is set-up to COM4. Also I changed settings to COM1 with no success. It looks that project manager don't reach any COM port since IP settings is required.<br />\\n<br />\\nI tried the LW9901/LW9902 method too by downloading the project with corresponding numeric input objects on but the PLC communication stopped when I set the required parameter values\", 'ReplyText': 'Dear Stefan,<br />\\r\\n<br />\\r\\nFor MT6070iH to use Com port pass-through, <br />\\r\\nplease follow below steps.<br />\\r\\n<br />\\r\\nStep 1. HMI connect to PLC in COM1 RS485 4W<br />\\r\\n<br />\\r\\nStep 2. HMI connect to PC via RS232 in COM3<br />\\r\\n<br />\\r\\nStep 3. Create a simple project, and 7 numeric input <br />\\r\\nobject to set system reserve addresses as below.<br />\\r\\n<br />\\r\\nnumeric input 1, LW9901 <br />\\r\\nnumeric input 2, LW9902<br />\\r\\nnumeric input 3, LW9550<br />\\r\\nnumeric input 4, LW9551<br />\\r\\nnumeric input 5, LW9552<br />\\r\\nnumeric input 6, LW9553<br />\\r\\nnumeric input 7, LW9554<br />\\r\\n<br />\\r\\nDownlaod to HMI via USB cable and you can see the <br />\\r\\nLW9550~LW9554 display the value and those values <br />\\r\\nare the PLC settings.<br />\\r\\nfor example, the PLC is 9600, E,7,1 and use RS485 4W,<br />\\r\\nin the HMI you can see<br />\\r\\nnumeric input 3, LW9550 =&gt; 2<br />\\r\\nnumeric input 4, LW9551 =&gt; 1<br />\\r\\nnumeric input 5, LW9552 =&gt; 7<br />\\r\\nnumeric input 6, LW9553 =&gt; 1<br />\\r\\nnumeric input 7, LW9554 =&gt; 1<br />\\r\\n<br />\\r\\nStep 4,<br />\\r\\nthe source com prot is COM3 RS232&nbsp; and destination port is <br />\\r\\nRS485 COM1.<br />\\r\\nIn LW9901 write 3 and LW9902 write 1<br />\\r\\nto start pass-through function.<br />\\r\\n<br />\\r\\nNo need to use project manager in your case, becasue <br />\\r\\nMT6070iH does not support Ethernet function. <br />\\r\\nIn the project manager the HMI IP is required that is for <br />\\r\\nMT8000 series not MT6000 series. When setting HMI IP, <br />\\r\\nthe PLC parameter will be read fr', 'Replier': 'Cino', 'ReplyDate': '2009-12-15T10:11:30.183000', 'ReplyFile': None}]]\n"
     ]
    }
   ],
   "source": [
    "thread_metadata,userProfile_metada,userModel_metadata,messages_metadata = build_sr_metadata(df_first)\n",
    "print(thread_metadata)\n",
    "print(userProfile_metada)\n",
    "print(userModel_metadata)\n",
    "print(messages_metadata)"
   ]
  },
  {
   "cell_type": "markdown",
   "metadata": {},
   "source": [
    "# Create Graph Nodes by using metadata"
   ]
  },
  {
   "cell_type": "markdown",
   "metadata": {},
   "source": [
    "- connect to Neo4 db"
   ]
  },
  {
   "cell_type": "code",
   "execution_count": 10,
   "metadata": {},
   "outputs": [],
   "source": [
    "kg = Neo4jGraph(\n",
    "    url=NEO4J_URI, username=NEO4J_USERNAME, password=NEO4J_PASSWORD, database=NEO4J_DATABASE, timeout=86400\n",
    ")"
   ]
  },
  {
   "cell_type": "markdown",
   "metadata": {},
   "source": [
    "- create thread node"
   ]
  },
  {
   "cell_type": "code",
   "execution_count": 11,
   "metadata": {},
   "outputs": [
    {
     "data": {
      "text/plain": [
       "[{'mergedChunk': {'Category': 'Software',\n",
       "   'ThreadId': '20091207_0004',\n",
       "   'CreateDate': '2009-12-07T23:00:06.053000',\n",
       "   'Subject': 'Pass-through mode'}}]"
      ]
     },
     "execution_count": 11,
     "metadata": {},
     "output_type": "execute_result"
    }
   ],
   "source": [
    "merge_thread_node_query = \"\"\"\n",
    "MERGE(mergedChunk:Thread {ThreadId: $threadParam.ThreadId})\n",
    "    ON CREATE SET \n",
    "        mergedChunk.Subject = $threadParam.Subject,\n",
    "        mergedChunk.CreateDate = $threadParam.CreateDate, \n",
    "        mergedChunk.Category = $threadParam.Category\n",
    "RETURN mergedChunk\n",
    "\"\"\"\n",
    "\n",
    "kg.query(merge_thread_node_query, \n",
    "         params={'threadParam':thread_metadata[0]})"
   ]
  },
  {
   "cell_type": "code",
   "execution_count": 12,
   "metadata": {},
   "outputs": [
    {
     "data": {
      "text/plain": [
       "[{'ThreadId': '20091207_0004'}]"
      ]
     },
     "execution_count": 12,
     "metadata": {},
     "output_type": "execute_result"
    }
   ],
   "source": [
    "# search query\n",
    "cypher = \"\"\"MATCH (n:Thread) \n",
    "            RETURN n.ThreadId as ThreadId\"\"\"\n",
    "kg.query(cypher)"
   ]
  },
  {
   "cell_type": "markdown",
   "metadata": {},
   "source": [
    "- create user profile node"
   ]
  },
  {
   "cell_type": "code",
   "execution_count": 13,
   "metadata": {},
   "outputs": [
    {
     "data": {
      "text/plain": [
       "[{'mergedChunk': {'country': '',\n",
       "   'ThreadId': '20091207_0004',\n",
       "   'UserId': '20091207_0004-Hades',\n",
       "   'userIP': '77.78.151.5',\n",
       "   'username': 'Hades'}}]"
      ]
     },
     "execution_count": 13,
     "metadata": {},
     "output_type": "execute_result"
    }
   ],
   "source": [
    "merge_user_node_query = \"\"\"\n",
    "MERGE(mergedChunk:User {UserId: $userParam.UserId})\n",
    "    ON CREATE SET \n",
    "        mergedChunk.username = $userParam.username,\n",
    "        mergedChunk.country = $userParam.country, \n",
    "        mergedChunk.userIP = $userParam.userIP,\n",
    "        mergedChunk.ThreadId = $userParam.ThreadId\n",
    "RETURN mergedChunk\n",
    "\"\"\"\n",
    "\n",
    "kg.query(merge_user_node_query, \n",
    "         params={'userParam':userProfile_metada[0]})\n"
   ]
  },
  {
   "cell_type": "markdown",
   "metadata": {},
   "source": [
    "- create model node"
   ]
  },
  {
   "cell_type": "code",
   "execution_count": 14,
   "metadata": {},
   "outputs": [
    {
     "data": {
      "text/plain": [
       "[{'mergedChunk': {'HMI_Model': 'MT6070iH',\n",
       "   'SerialNo': '09110371',\n",
       "   'PLC_Connection': 'RS485 4W',\n",
       "   'ThreadId': '20091207_0004',\n",
       "   'HMI_COMport': '   ',\n",
       "   'Driver': '',\n",
       "   'OS_Version': '',\n",
       "   'PLC_Model': 'Mitsubishi FX1N',\n",
       "   'ModelId': '20091207_0004-MT6070iH-Mitsubishi FX1N',\n",
       "   'Firmware_Version': 'MT8xxx(S3C) build 20091002'}}]"
      ]
     },
     "execution_count": 14,
     "metadata": {},
     "output_type": "execute_result"
    }
   ],
   "source": [
    "merge_model_node_query = \"\"\"\n",
    "MERGE(mergedChunk:Model {ModelId: $modelParam.ModelId})\n",
    "    ON CREATE SET \n",
    "        mergedChunk.HMI_Model = $modelParam.HMI_Model,\n",
    "        mergedChunk.HMI_COMport = $modelParam.HMI_COMport, \n",
    "        mergedChunk.Firmware_Version = $modelParam.Firmware_Version, \n",
    "        mergedChunk.OS_Version = $modelParam.OS_Version, \n",
    "        mergedChunk.SerialNo = $modelParam.SerialNo, \n",
    "        mergedChunk.PLC_Model = $modelParam.PLC_Model, \n",
    "        mergedChunk.Driver = $modelParam.Driver, \n",
    "        mergedChunk.PLC_Connection = $modelParam.PLC_Connection,\n",
    "        mergedChunk.ThreadId = $modelParam.ThreadId\n",
    "RETURN mergedChunk\n",
    "\"\"\"\n",
    "\n",
    "kg.query(merge_model_node_query, \n",
    "         params={'modelParam':userModel_metadata[0]})"
   ]
  },
  {
   "cell_type": "markdown",
   "metadata": {},
   "source": [
    "- create message node"
   ]
  },
  {
   "cell_type": "code",
   "execution_count": 15,
   "metadata": {},
   "outputs": [],
   "source": [
    "merge_message_node_query = \"\"\"\n",
    "MERGE(mergedChunk:Message {MsgId: $msgParam.PK})\n",
    "    ON CREATE SET \n",
    "        mergedChunk.MessageOrder = $msgParam.MessageOrder,\n",
    "        mergedChunk.source = $msgParam.source, \n",
    "        mergedChunk.PostDate = $msgParam.PostDate, \n",
    "        mergedChunk.MessageText = $msgParam.MessageText, \n",
    "        mergedChunk.ReplyText = $msgParam.ReplyText, \n",
    "        mergedChunk.Replier = $msgParam.Replier, \n",
    "        mergedChunk.ReplyDate = $msgParam.ReplyDate, \n",
    "        mergedChunk.ReplyFile = $msgParam.ReplyFile\n",
    "RETURN mergedChunk\n",
    "\"\"\"\n",
    "\n",
    "# scan each message\n",
    "for metadata in messages_metadata[0]:\n",
    "    kg.query(merge_message_node_query, \n",
    "            params={'msgParam':metadata})"
   ]
  },
  {
   "cell_type": "markdown",
   "metadata": {},
   "source": [
    "- Create a uniqueness constraint to avoid duplicate thread"
   ]
  },
  {
   "cell_type": "code",
   "execution_count": 16,
   "metadata": {},
   "outputs": [
    {
     "data": {
      "text/plain": [
       "[]"
      ]
     },
     "execution_count": 16,
     "metadata": {},
     "output_type": "execute_result"
    }
   ],
   "source": [
    "# for thread\n",
    "kg.query(\"\"\"\n",
    "CREATE CONSTRAINT unique_thread IF NOT EXISTS \n",
    "    FOR (t:Thread) REQUIRE t.ThreadId IS UNIQUE\n",
    "\"\"\")\n",
    "# for user\n",
    "kg.query(\"\"\"\n",
    "CREATE CONSTRAINT unique_user IF NOT EXISTS \n",
    "    FOR (u:User) REQUIRE u.UserId IS UNIQUE\n",
    "\"\"\")\n",
    "# for model\n",
    "kg.query(\"\"\"\n",
    "CREATE CONSTRAINT unique_model IF NOT EXISTS \n",
    "    FOR (m:Model) REQUIRE m.ModelId IS UNIQUE\n",
    "\"\"\")\n",
    "# for message\n",
    "kg.query(\"\"\"\n",
    "CREATE CONSTRAINT unique_message IF NOT EXISTS \n",
    "    FOR (m:Message) REQUIRE m.MsgId IS UNIQUE\n",
    "\"\"\")\n"
   ]
  },
  {
   "cell_type": "markdown",
   "metadata": {},
   "source": [
    "- loop all threads to create all nodes"
   ]
  },
  {
   "cell_type": "code",
   "execution_count": 17,
   "metadata": {},
   "outputs": [],
   "source": [
    "thread_metadata,userProfile_metada,userModel_metadata,messages_metadata = build_sr_metadata(df_sr)"
   ]
  },
  {
   "cell_type": "code",
   "execution_count": 18,
   "metadata": {},
   "outputs": [
    {
     "name": "stdout",
     "output_type": "stream",
     "text": [
      "9963\n",
      "9963\n",
      "9963\n",
      "9963\n",
      "====================\n",
      "9963\n",
      "9963\n",
      "9963\n",
      "20975\n",
      "total nodes: 50864\n"
     ]
    }
   ],
   "source": [
    "# to see the number of unique items\n",
    "print(len(thread_metadata))\n",
    "print(len(userProfile_metada))\n",
    "print(len(userModel_metadata))\n",
    "print(len(messages_metadata))\n",
    "print(\"====================\")\n",
    "num_thread_node = len(set([node['ThreadId'] for node in thread_metadata]))\n",
    "num_user_node = len(set([node['UserId'] for node in userProfile_metada]))\n",
    "num_model_node = len(set([node['ModelId'] for node in userModel_metadata]))\n",
    "num_message_node = sum([len(node_grp) for node_grp in messages_metadata])\n",
    "print(num_thread_node)\n",
    "print(num_user_node)\n",
    "print(num_model_node)\n",
    "print(num_message_node)\n",
    "print(f\"total nodes: {num_thread_node+num_user_node+num_model_node+num_message_node}\")"
   ]
  },
  {
   "cell_type": "code",
   "execution_count": 19,
   "metadata": {},
   "outputs": [
    {
     "name": "stderr",
     "output_type": "stream",
     "text": [
      "Processing threadId: 100%|██████████| 9963/9963 [3:12:46<00:00,  1.16s/threads]  \n"
     ]
    }
   ],
   "source": [
    "# scan data, totally about 37k nodes (172 min)\n",
    "for idx, thread_data in enumerate(tqdm(thread_metadata,desc=\"Processing threadId\",unit=\"threads\")):\n",
    "     # if idx > 200:\n",
    "     #      break\n",
    "     kg.query(merge_thread_node_query, \n",
    "          params={'threadParam':thread_data})\n",
    "     # scan each user\n",
    "     user_data = userProfile_metada[idx]\n",
    "     kg.query(merge_user_node_query, \n",
    "          params={'userParam':user_data})\n",
    "     # scan each model\n",
    "     model_data = userModel_metadata[idx]\n",
    "     kg.query(merge_model_node_query, \n",
    "          params={'modelParam':model_data})\n",
    "     # scan each message\n",
    "     messages_data = messages_metadata[idx]\n",
    "     for metadata in messages_data:\n",
    "          kg.query(merge_message_node_query, \n",
    "                    params={'msgParam':metadata})"
   ]
  },
  {
   "cell_type": "code",
   "execution_count": 20,
   "metadata": {},
   "outputs": [
    {
     "data": {
      "text/plain": [
       "[{'t': {'Category': 'Software',\n",
       "   'ThreadId': '20100423_0001',\n",
       "   'CreateDate': '2010-04-23T03:04:00.913000',\n",
       "   'Subject': 'Can not open mtp file'},\n",
       "  'mod': {'HMI_Model': 'MT6070iH',\n",
       "   'SerialNo': '09093683',\n",
       "   'PLC_Connection': '  ',\n",
       "   'ThreadId': '20100423_0001',\n",
       "   'HMI_COMport': '   ',\n",
       "   'Driver': 'SIEMENS_S7_200.so',\n",
       "   'OS_Version': '',\n",
       "   'PLC_Model': 'S7-200',\n",
       "   'ModelId': '20100423_0001-MT6070iH-S7-200',\n",
       "   'Firmware_Version': '?'},\n",
       "  'qa_paris': [{'Replier': 'Tina0604',\n",
       "    'MessageOrder': 1,\n",
       "    'ReplyDate': '2010-04-23T11:50:04.720000',\n",
       "    'source': '20100423_0001',\n",
       "    'MessageText': 'I can not open my file with your easybuilder software.&nbsp; I have tried several differnet version and i always receive and error saying &quot;Must use a newer tool to open&quot;.<br />\\r\\n<br />\\r\\nHow do i find out what version i need, unable to get ahold of oem who supplied.<br />',\n",
       "    'PostDate': '2010-04-23T03:04:00.930000',\n",
       "    'MsgId': '20100423_0001_1',\n",
       "    'ReplyText': '<p>Which EB8000 version you used before? have you open your project with EB8000v4.00 or v4.02beta version?&nbsp;<br />\\r\\n&nbsp;</p>'},\n",
       "   {'Replier': 'Tina0604',\n",
       "    'MessageOrder': 2,\n",
       "    'ReplyDate': '2010-04-27T09:35:16.197000',\n",
       "    'source': '20100423_0001',\n",
       "    'MessageText': 'I was told it was developed in 3.4 and i tried to open it in that version and receive the below error<br />\\r\\n<br />\\r\\n&quot;An unknown error occurred while accessing an unnamed file.&quot;',\n",
       "    'PostDate': '2010-04-27T09:16:30.617000',\n",
       "    'MsgId': '20100423_0001_2',\n",
       "    'ReplyText': 'Could you please send your project for testing? <br />\\r\\nAre you using V3.40,&nbsp;V3.42&nbsp;or V3.44 to develop the project?'}]}]"
      ]
     },
     "execution_count": 20,
     "metadata": {},
     "output_type": "execute_result"
    }
   ],
   "source": [
    "# query a given thread\n",
    "kg.query(\"\"\"MATCH(t:Thread), (u:User), (mod:Model), (msg:Message)\n",
    "            WHERE t.ThreadId = u.ThreadId and t.ThreadId = mod.ThreadId and t.ThreadId = msg.source\n",
    "            WITH t, u, mod, msg\n",
    "            WHERE t.ThreadId = '20100423_0001'\n",
    "            RETURN t, mod, collect(msg) as qa_paris\n",
    "            ORDER BY t.ThreadId DESC\"\"\")"
   ]
  },
  {
   "cell_type": "markdown",
   "metadata": {},
   "source": [
    "## Create a vector index"
   ]
  },
  {
   "cell_type": "code",
   "execution_count": 21,
   "metadata": {},
   "outputs": [
    {
     "data": {
      "text/plain": [
       "[]"
      ]
     },
     "execution_count": 21,
     "metadata": {},
     "output_type": "execute_result"
    }
   ],
   "source": [
    "kg.query(\"\"\"\n",
    "         CREATE VECTOR INDEX `form_user_message` IF NOT EXISTS\n",
    "          FOR (m:Message) ON (m.textEmbedding) \n",
    "          OPTIONS { indexConfig: {\n",
    "            `vector.dimensions`:3072,\n",
    "            `vector.similarity_function`:'cosine'    \n",
    "         }}\n",
    "\"\"\")"
   ]
  },
  {
   "cell_type": "code",
   "execution_count": 22,
   "metadata": {},
   "outputs": [
    {
     "data": {
      "text/plain": [
       "[{'id': 10,\n",
       "  'name': 'form_user_message',\n",
       "  'state': 'ONLINE',\n",
       "  'populationPercent': 100.0,\n",
       "  'type': 'VECTOR',\n",
       "  'entityType': 'NODE',\n",
       "  'labelsOrTypes': ['Message'],\n",
       "  'properties': ['textEmbedding'],\n",
       "  'indexProvider': 'vector-2.0',\n",
       "  'owningConstraint': None,\n",
       "  'lastRead': None,\n",
       "  'readCount': 0}]"
      ]
     },
     "execution_count": 22,
     "metadata": {},
     "output_type": "execute_result"
    }
   ],
   "source": [
    "kg.query(\"SHOW INDEXES WHERE name='form_user_message'\")"
   ]
  },
  {
   "cell_type": "markdown",
   "metadata": {},
   "source": [
    "### Calculate the vector embedding for message text with Azure OpenAI"
   ]
  },
  {
   "cell_type": "markdown",
   "metadata": {},
   "source": [
    "- batch running for textEmbedding to avoid timeout and connection error "
   ]
  },
  {
   "cell_type": "code",
   "execution_count": 23,
   "metadata": {},
   "outputs": [
    {
     "name": "stdout",
     "output_type": "stream",
     "text": [
      "Try Batch 1...\n",
      "Try Batch 2...\n",
      "Try Batch 3...\n",
      "Try Batch 4...\n",
      "Try Batch 5...\n",
      "Try Batch 6...\n",
      "Try Batch 7...\n",
      "Try Batch 8...\n",
      "Try Batch 9...\n",
      "Try Batch 10...\n",
      "Try Batch 11...\n",
      "Try Batch 12...\n",
      "Try Batch 13...\n",
      "Try Batch 14...\n",
      "Try Batch 15...\n",
      "Try Batch 16...\n",
      "Try Batch 17...\n",
      "Try Batch 18...\n",
      "Try Batch 19...\n",
      "Try Batch 20...\n",
      "Try Batch 21...\n",
      "Completed.\n"
     ]
    }
   ],
   "source": [
    "batch_size = 1000 # about 3 min/batch\n",
    "max_retry = 3\n",
    "try_cnt = 0\n",
    "batch_cnt = 0\n",
    "while try_cnt < max_retry:\n",
    "    print(\"Try Batch %d...\" % (batch_cnt+1))\n",
    "    try:\n",
    "        result = kg.query(\"\"\"\n",
    "                          MATCH (msg:Message) WHERE msg.textEmbedding IS NULL\n",
    "                          WITH msg LIMIT %d\n",
    "                          WITH msg, genai.vector.encode(\n",
    "                            msg.MessageText, \n",
    "                            \"AzureOpenAI\", \n",
    "                            {\n",
    "                              token: $azureOpenAiApiKey, \n",
    "                              endpoint: $azureOpenAiEndpoint,\n",
    "                              resource: $azureOpenAiResource,\n",
    "                              deployment: $azureDeployment\n",
    "                            }) AS vector\n",
    "                          CALL db.create.setNodeVectorProperty(msg, \"textEmbedding\", vector)\n",
    "                          RETURN msg\n",
    "                          \"\"\" % (batch_size), \n",
    "                          params={\"azureOpenAiApiKey\":AZURE_API_KEY1, \n",
    "                                  \"azureOpenAiEndpoint\": AZURE_ENDPOINT, \n",
    "                                  \"azureOpenAiResource\":AZURE_RESOURCE_NAME, \n",
    "                                  \"azureDeployment\":AZURE_EMBED_DEPLOYMENT})\n",
    "        batch_cnt += 1\n",
    "        if len(result) < batch_size:\n",
    "            print(\"Completed.\")\n",
    "            break\n",
    "    except Exception as e:\n",
    "        try_cnt += 1\n",
    "        print(f\"Try {try_cnt} with error: {e}\")\n",
    "        print(\"Waiting....1 min\")\n",
    "        time.sleep(60)\n",
    "else:\n",
    "    print(\"Failed after max retries.\")\n"
   ]
  },
  {
   "cell_type": "code",
   "execution_count": 24,
   "metadata": {},
   "outputs": [
    {
     "name": "stdout",
     "output_type": "stream",
     "text": [
      "Node properties:\n",
      "Thread {ThreadId: STRING, Subject: STRING, CreateDate: STRING, Category: STRING}\n",
      "User {ThreadId: STRING, UserId: STRING, username: STRING, country: STRING, userIP: STRING}\n",
      "Model {ThreadId: STRING, ModelId: STRING, HMI_Model: STRING, HMI_COMport: STRING, Firmware_Version: STRING, OS_Version: STRING, SerialNo: STRING, PLC_Model: STRING, Driver: STRING, PLC_Connection: STRING}\n",
      "Message {MsgId: STRING, MessageOrder: INTEGER, source: STRING, PostDate: STRING, MessageText: STRING, ReplyText: STRING, Replier: STRING, ReplyDate: STRING, textEmbedding: LIST, ReplyFile: STRING}\n",
      "Relationship properties:\n",
      "\n",
      "The relationships:\n",
      "\n"
     ]
    }
   ],
   "source": [
    "kg.refresh_schema()\n",
    "print(kg.schema)"
   ]
  },
  {
   "cell_type": "markdown",
   "metadata": {},
   "source": [
    "### Use Similarity to find relevant messages"
   ]
  },
  {
   "cell_type": "code",
   "execution_count": 25,
   "metadata": {},
   "outputs": [],
   "source": [
    "def neo4j_vector_search(question, VECTOR_INDEX_NAME = \"form_user_message\"):\n",
    "  \"\"\"Search for similar nodes using the Neo4j vector index\"\"\"\n",
    "  vector_search_query = \"\"\"\n",
    "    WITH genai.vector.encode(\n",
    "      $question, \n",
    "      \"AzureOpenAI\", \n",
    "      {\n",
    "        token: $azureOpenAiApiKey, \n",
    "        endpoint: $azureOpenAiEndpoint,\n",
    "        resource: $azureOpenAiResource,\n",
    "        deployment: $azureDeployment\n",
    "      }) AS question_embedding\n",
    "    CALL db.index.vector.queryNodes($index_name, $top_k, question_embedding) yield node, score\n",
    "    RETURN score, node.MessageText AS Question, node.ReplyText As Answer\n",
    "  \"\"\"\n",
    "  similar = kg.query(vector_search_query, \n",
    "                     params={\n",
    "                      'question': question, \n",
    "                      \"azureOpenAiApiKey\":AZURE_API_KEY1, \n",
    "                      \"azureOpenAiEndpoint\": AZURE_ENDPOINT, \n",
    "                      \"azureOpenAiResource\":AZURE_RESOURCE_NAME, \n",
    "                      \"azureDeployment\":AZURE_EMBED_DEPLOYMENT,\n",
    "                      'index_name':VECTOR_INDEX_NAME, \n",
    "                      'top_k': 5})\n",
    "  return similar"
   ]
  },
  {
   "cell_type": "code",
   "execution_count": 26,
   "metadata": {},
   "outputs": [
    {
     "name": "stdout",
     "output_type": "stream",
     "text": [
      "[{'score': 0.8800181746482849, 'Question': 'I can not open my file with your easybuilder software.&nbsp; I have tried several differnet version and i always receive and error saying &quot;Must use a newer tool to open&quot;.<br />\\r\\n<br />\\r\\nHow do i find out what version i need, unable to get ahold of oem who supplied.<br />', 'Answer': '<p>Which EB8000 version you used before? have you open your project with EB8000v4.00 or v4.02beta version?&nbsp;<br />\\r\\n&nbsp;</p>'}, {'score': 0.8279533386230469, 'Question': '<p>Okay thanks,</p><br><p>Can you also look to the easybuilder file. I cannot open this file anymore.<br></p>', 'Answer': 'Dear Sir,<br />\\r\\n<br />\\r\\nWhat version did you use to make this project?<br />\\r\\nBefore it can’t open with V6.02.01, what did you do?<br />\\r\\n<br />\\r\\nBest Regards,<br />\\r\\nFinn<br />\\r\\n<br type=\"_moz\" />'}, {'score': 0.819596529006958, 'Question': 'Hello! I have bought toch panel MT8071ip. I downloaded the project from the panel that was recorded. I cannot open the file with the .exob extension. I have an error which in picture. Version of EasyBuilderPro 6.03.01.239 build 2019.07.26<img src=\"http://www.weintek.com/SRFiles/ServiceRequest/201910/20191009_0003/1.jpg\">', 'Answer': 'Hi,<br />\\r\\n<br />\\r\\nPlease decompile it to .emtp and open it, thanks.'}, {'score': 0.8186599016189575, 'Question': 'Hi, I am having trouble uploading from my current HMI. I have managed to upload the 2 files below but canot open these files with Easybuilder. I need to make changes to the characters on the current program. Please assist', 'Answer': 'Dear Sir,<br />\\r\\n<br />\\r\\nEasyBuilder can only open MTP format file, it can’t open XOB format file. To convert the XOB file to MTP file, please select [Tools] &gt;&gt; [Decompilte]. Thanks<br type=\"_moz\" />'}, {'score': 0.808387815952301, 'Question': '<p>朋友給的一個檔案無法開啟</p><p>機型為：6071ip</p><p><img src=\"http://www.weintek.com/SRFiles/ServiceRequest/20219/20210917_0001/Image 001.png\"></p><p>會出現上述異常訊息</p><p>請問是EasyBuilderPro軟體版本的問題嗎？</p><p><img src=\"http://www.weintek.com/SRFiles/ServiceRequest/20219/20210917_0001/Image 002.png\"></p><p>如果是，那需要用哪一個版本處理該檔案，哪裡可以下載</p><br><br>', 'Answer': 'Hi Sir,<br />\\r\\n<br />\\r\\nHMI(45)是TK6071iP，此為威綸通買出的HMI，請洽威綸通官網尋求協助，謝謝<br />\\r\\n<br />\\r\\nBest Regards,<br />\\r\\nFinn<br />\\r\\n<br type=\"_moz\" />'}]\n"
     ]
    }
   ],
   "source": [
    "search_results = neo4j_vector_search(\n",
    "    'I can not open my file with your easybuilder software.'\n",
    ")\n",
    "print(search_results)"
   ]
  },
  {
   "cell_type": "markdown",
   "metadata": {},
   "source": [
    "## Set up the Langchain RAG workflow to chat with the data"
   ]
  },
  {
   "cell_type": "markdown",
   "metadata": {},
   "source": [
    "- Use Azure OpenAIEmbeddings"
   ]
  },
  {
   "cell_type": "code",
   "execution_count": 27,
   "metadata": {},
   "outputs": [],
   "source": [
    "Embeddings = AzureOpenAIEmbeddings(\n",
    "    azure_deployment=AZURE_EMBED_DEPLOYMENT,\n",
    "    openai_api_version=AZURE_OPENAI_API_VERSION,\n",
    "    azure_endpoint=AZURE_ENDPOINT,\n",
    "    api_key=AZURE_API_KEY1,\n",
    ")\n",
    "\n",
    "VECTOR_INDEX_NAME = \"form_user_message\"\n",
    "VECTOR_NODE_LABEL = \"Message\"\n",
    "VECTOR_SOURCE_PROPERTY1 = 'MessageText'\n",
    "VECTOR_SOURCE_PROPERTY2 = \"RepleyText\"\n",
    "VECTOR_EMBEDDING_PROPERTY = 'textEmbedding'\n",
    "\n",
    "neo4j_vector_store = Neo4jVector.from_existing_graph(\n",
    "    embedding=Embeddings,\n",
    "    url=NEO4J_URI,\n",
    "    username=NEO4J_USERNAME,\n",
    "    password=NEO4J_PASSWORD,\n",
    "    index_name=VECTOR_INDEX_NAME,\n",
    "    node_label=VECTOR_NODE_LABEL,\n",
    "    text_node_properties=[VECTOR_SOURCE_PROPERTY1],\n",
    "    embedding_node_property=VECTOR_EMBEDDING_PROPERTY,\n",
    ")\n",
    "\n",
    "retriever = neo4j_vector_store.as_retriever(search_kwargs={\"k\": 15})"
   ]
  },
  {
   "cell_type": "code",
   "execution_count": 28,
   "metadata": {},
   "outputs": [
    {
     "data": {
      "text/plain": [
       "[Document(metadata={'MsgId': '20100423_0001_1', 'Replier': 'Tina0604', 'PostDate': '2010-04-23T03:04:00.930000', 'source': '20100423_0001', 'MessageOrder': 1, 'ReplyText': '<p>Which EB8000 version you used before? have you open your project with EB8000v4.00 or v4.02beta version?&nbsp;<br />\\r\\n&nbsp;</p>', 'ReplyDate': '2010-04-23T11:50:04.720000'}, page_content='\\nMessageText: I can not open my file with your easybuilder software.&nbsp; I have tried several differnet version and i always receive and error saying &quot;Must use a newer tool to open&quot;.<br />\\r\\n<br />\\r\\nHow do i find out what version i need, unable to get ahold of oem who supplied.<br />'),\n",
       " Document(metadata={'MsgId': '20190109_0001_4', 'Replier': 'finnliu', 'PostDate': '2019-01-09T08:09:56.937000', 'source': '20190109_0001', 'MessageOrder': 4, 'ReplyText': 'Dear Sir,<br />\\r\\n<br />\\r\\nWhat version did you use to make this project?<br />\\r\\nBefore it can’t open with V6.02.01, what did you do?<br />\\r\\n<br />\\r\\nBest Regards,<br />\\r\\nFinn<br />\\r\\n<br type=\"_moz\" />', 'ReplyDate': '2019-01-09T08:58:43.670000'}, page_content='\\nMessageText: <p>Okay thanks,</p><br><p>Can you also look to the easybuilder file. I cannot open this file anymore.<br></p>'),\n",
       " Document(metadata={'MsgId': '20191009_0003_1', 'Replier': 'nicolas', 'PostDate': '2019-10-09T07:13:07.460000', 'source': '20191009_0003', 'MessageOrder': 1, 'ReplyText': 'Hi,<br />\\r\\n<br />\\r\\nPlease decompile it to .emtp and open it, thanks.', 'ReplyDate': '2019-10-09T07:49:37.453000'}, page_content='\\nMessageText: Hello! I have bought toch panel MT8071ip. I downloaded the project from the panel that was recorded. I cannot open the file with the .exob extension. I have an error which in picture. Version of EasyBuilderPro 6.03.01.239 build 2019.07.26<img src=\"http://www.weintek.com/SRFiles/ServiceRequest/201910/20191009_0003/1.jpg\">'),\n",
       " Document(metadata={'MsgId': '20130220_0001_1', 'Replier': 'nina_lu', 'PostDate': '2013-02-20T01:31:01.160000', 'source': '20130220_0001', 'MessageOrder': 1, 'ReplyText': 'Dear Sir,<br />\\r\\n<br />\\r\\nEasyBuilder can only open MTP format file, it can’t open XOB format file. To convert the XOB file to MTP file, please select [Tools] &gt;&gt; [Decompilte]. Thanks<br type=\"_moz\" />', 'ReplyDate': '2013-02-20T11:37:09.923000'}, page_content='\\nMessageText: Hi, I am having trouble uploading from my current HMI. I have managed to upload the 2 files below but canot open these files with Easybuilder. I need to make changes to the characters on the current program. Please assist'),\n",
       " Document(metadata={'MsgId': '20170713_0002_7', 'Replier': 'nicolas', 'PostDate': '2017-08-13T18:41:12.807000', 'source': '20170713_0002', 'MessageOrder': 7, 'ReplyText': 'thanks', 'ReplyDate': '2017-08-14T13:52:37.287000'}, page_content='\\nMessageText: <p>Dear sir/madam,</p><p>i also use that version of Easybulder Pro software and i attached photo here.</p>but i cant open that project.'),\n",
       " Document(metadata={'MsgId': '20170703_0003_1', 'Replier': 'nicolas', 'PostDate': '2017-07-03T19:26:48.567000', 'source': '20170703_0003', 'MessageOrder': 1, 'ReplyText': 'Hi Sir,<br />\\r\\n<br />\\r\\nPlease decompile *.xob to *.mtp format first, and then you can open it using EB8000.<br />\\r\\n<br />\\r\\nYou can find decompile function on Tool menu \\\\ Decompile.<br />\\r\\n<br />\\r\\nThanks', 'ReplyDate': '2017-07-04T09:23:23.970000'}, page_content='\\nMessageText: <p>hi dearI have uploaded HMI program from MT6070iH in .xob format with easubuilder8000 but it doesn’t open again with easubuilder8000 .</p><p>when opening this file the massage \"must be use newer tool to open\" occur however my easubuilder8000 is the last version.</p><p>after that i try with easubuilder pro and again it doesn’t work.</p><p>may be you help me?How i can open and edit xob file?</p><br><p>thanks</p>'),\n",
       " Document(metadata={'MsgId': '20210917_0001_1', 'Replier': 'finnliu', 'PostDate': '2021-09-17T05:37:35.610000', 'source': '20210917_0001', 'MessageOrder': 1, 'ReplyText': 'Hi Sir,<br />\\r\\n<br />\\r\\nHMI(45)是TK6071iP，此為威綸通買出的HMI，請洽威綸通官網尋求協助，謝謝<br />\\r\\n<br />\\r\\nBest Regards,<br />\\r\\nFinn<br />\\r\\n<br type=\"_moz\" />', 'ReplyDate': '2021-09-17T05:54:09.670000'}, page_content='\\nMessageText: <p>朋友給的一個檔案無法開啟</p><p>機型為：6071ip</p><p><img src=\"http://www.weintek.com/SRFiles/ServiceRequest/20219/20210917_0001/Image 001.png\"></p><p>會出現上述異常訊息</p><p>請問是EasyBuilderPro軟體版本的問題嗎？</p><p><img src=\"http://www.weintek.com/SRFiles/ServiceRequest/20219/20210917_0001/Image 002.png\"></p><p>如果是，那需要用哪一個版本處理該檔案，哪裡可以下載</p><br><br>'),\n",
       " Document(metadata={'MsgId': '20120420_0004_3', 'Replier': 'nina_lu', 'PostDate': '2012-04-21T04:06:05.173000', 'source': '20120420_0004', 'MessageOrder': 3, 'ReplyText': 'Dear Sir<br />\\r\\n<br />\\r\\nPlease refer to the link for downloading EB500 V2.74. Thanks<br />\\r\\nftp://ftp.weintek.com/MT500/English/EB500V274_080130_enU.zip<br type=\"_moz\" />', 'ReplyDate': '2012-04-23T17:35:19.500000'}, page_content='\\nMessageText: can you send me the link what software is good to open it<br />\\r\\ni got easybuilder 500<br />\\r\\nplease do let me know<br />'),\n",
       " Document(metadata={'MsgId': '20160316_0002_1', 'Replier': 'edgarlee', 'PostDate': '2016-03-16T03:41:29.740000', 'source': '20160316_0002', 'MessageOrder': 1, 'ReplyText': 'Dear Sir:\\r\\n<div>&nbsp;</div>\\r\\n<div>please see the below link, that can help you translate project for mt506mv to new unit.</div>\\r\\n<div>&nbsp;</div>\\r\\n<div>the directly link:</div>\\r\\n<div>ftp://ftp.weintek.com/MT8000/eng/FAQ/FAQ_08_Translate_MT500_Project_to_MT8000.pdf</div>\\r\\n<div>&nbsp;</div>\\r\\n<div>Thank you</div>', 'ReplyDate': '2016-03-16T10:49:00.487000'}, page_content='\\nMessageText: <p>HELLO</p><p>I WANT TO REPLACE AN OLD HMI UNIT&nbsp; MT506MV</p><p>TO A NEW UNIT</p><p>I DID UPLOAD AND I CAN DO SIMULATION</p><p>BUT WHEN I TRY TO OPEN&nbsp;THE FILE &nbsp;WITH THE EASY BUILDER SOFTWARE</p><p>I GET AMESSEGE : UNEXPECTED FILE FORMAT</p><br><p>CAN YOU HELP ME</p><p>THANK YOU</p><br><p>SASSON MOSHE<br></p>'),\n",
       " Document(metadata={'ReplyFile': '201711\\\\20171113_0004_2.png', 'MsgId': '20171113_0004_2', 'Replier': 'nina_lu', 'PostDate': '2017-11-14T23:20:59.340000', 'source': '20171113_0004', 'MessageOrder': 2, 'ReplyText': 'Dear Sir,<br />\\r\\n<br />\\r\\nPlease open regedit, find EasyBuilder Pro in the following path.<br />\\r\\n&quot; HKEY_CURRENT_USER\\\\Software\\\\Weintek\\\\EasyBuilder Pro &quot;<br />\\r\\nAnd delete this path to try again.<br />\\r\\n<br />\\r\\nThanks', 'ReplyDate': '2017-11-15T10:23:56.497000'}, page_content='\\nMessageText: Fresh instalation of EasyBuilder, I testen with opening new project with no success and then i tried to open some of your demo project with no success too. It look like some rights for writing files and Windows 10 ? <br>'),\n",
       " Document(metadata={'MsgId': '20210528_0002_6', 'Replier': 'nina_lu', 'PostDate': '2021-06-29T16:37:25.257000', 'source': '20210528_0002', 'MessageOrder': 6, 'ReplyText': 'Hi,<br />\\r\\n<br />\\r\\nCould you please provide the project to us for further checking? Thanks', 'ReplyDate': '2021-06-30T01:28:44.617000'}, page_content='\\nMessageText: <p>Good day, i have a problem, i download a .exob file from eMT3120, at moment to decompile, the task stop on a 41 window and automatically close easybuilder, some wrong with the file?</p><br>Thaks'),\n",
       " Document(metadata={'MsgId': '20211203_0002_1', 'Replier': 'nina_lu', 'PostDate': '2021-12-03T13:43:03.803000', 'source': '20211203_0002', 'MessageOrder': 1, 'ReplyText': 'Hi,<br />\\r\\n<br />\\r\\nPlease adjust DisplaySetting.exe in C:\\\\EBpro folder to other 2 options to test again.<br />\\r\\nIf still doesn’t work, please provide me the files in C:\\\\EBpro\\\\Crashdump for analysis.<br />\\r\\n<br />\\r\\nThanks', 'ReplyDate': '2021-12-06T06:02:03.330000'}, page_content='\\nMessageText: <p>I am setting up a new computer and downloaded EasyBuilder but can’t get it to open or work. It did initially but crashed one of the times when opening and now I can’t get it to open and have the file open pop-up. It either fails when opening the app, or it fails once opened and trying to open that file pop-up. I’ve tried uninstalling and reinstalling to no avail. I’ve tried version 6.5.2 (which is the one I’d like to use since all our programs are that version), 6.6.1, and 6.6.2, all with the same result of the app not fully opening. I’m on a Windows 10 system.&nbsp;</p>- JDF'),\n",
       " Document(metadata={'MsgId': '20190426_0003_1', 'Replier': 'nina_lu', 'PostDate': '2019-04-26T06:31:06.850000', 'source': '20190426_0003', 'MessageOrder': 1, 'ReplyText': 'Dear sir,<br />\\r\\n<br />\\r\\nCould you please attach a picture for me to check the error message?<br />\\r\\n<br />\\r\\nThanks', 'ReplyDate': '2019-04-26T08:49:12'}, page_content='\\nMessageText: <p>A message keep on appearing if I open older .emtp files in the Easybuilder program</p><br><p>I need urgent help please</p><br>'),\n",
       " Document(metadata={'MsgId': '20190320_0003_1', 'Replier': 'nina_lu', 'PostDate': '2019-03-20T08:17:51.153000', 'source': '20190320_0003', 'MessageOrder': 1, 'ReplyText': 'Hi Geoff,<br />\\r\\n<br />\\r\\nPlease refer to the following link for using the project uploaded by USB.<br />\\r\\nhttp://dl.weintek.com/public/MT8000/eng/FAQ/FAQ_09_How_to_Decompile_the_xob_file_which_uploading_in_the_USB_Disk.pdf<br />\\r\\n<br />\\r\\nThanks', 'ReplyDate': '2019-03-21T08:49:50.290000'}, page_content='\\nMessageText: <p>Hi service,</p><br><p>I have installed EasyBuilder Pro V6.02.02241 Build 2019.03.18 on my laptop and trying to open a file from a USB drive that I uploaded from the MT8050iE, HMI but the message comes up that; E:\\\\mt8xxx.001 requires EastBuilder Pro V or later.&nbsp;</p><p>Can you please help me out as the driver is later that the error message on the screen.</p><br><p>Regards</p><p>Geoff Scott</p>'),\n",
       " Document(metadata={'MsgId': '20191004_0002_2', 'Replier': 'nina_lu', 'PostDate': '2019-10-30T08:21:08.300000', 'source': '20191004_0002', 'MessageOrder': 2, 'ReplyText': 'Hi Sir,<br />\\r\\n<br />\\r\\nI used the later versions to create the project.<br />\\r\\nCould you please download the latest one from the below link?<br />\\r\\n<br />\\r\\n<a href=\"https://dl.weintek.com/EBPro/Installer/EBproV60301375.zip\">https://dl.weintek.com/EBPro/Installer/EBproV60301375.zip</a><br />\\r\\n<br />\\r\\nThanks<br type=\"_moz\">\\r\\n<br />\\r\\n<br type=\"_moz\" />\\r\\n</br>', 'ReplyDate': '2019-10-31T08:18:31.330000'}, page_content='\\nMessageText: <p>So I finally got a chance to try to open this but I get an error telling me the project needs EasyBuilder Pro V6.03.01 or later. But that is the version I have installed.</p><br><p><img src=\"http://www.weintek.com/SRFiles/ServiceRequest/201910/20191004_0002/EBP error.PNG\"></p><br><p>My installation of EBP:</p><img src=\"http://www.weintek.com/SRFiles/ServiceRequest/201910/20191004_0002/about ebp.PNG\"><br>')]"
      ]
     },
     "execution_count": 28,
     "metadata": {},
     "output_type": "execute_result"
    }
   ],
   "source": [
    "# search by retriever\n",
    "result = retriever.invoke(\"I can not open my file with your easybuilder software.\")\n",
    "result"
   ]
  },
  {
   "cell_type": "markdown",
   "metadata": {},
   "source": [
    "- Set up a RetrievalQAWithSourcesChain to carry out question answering\n",
    "- You can check out the LangChain documentation for this chain [here](https://learn.microsoft.com/en-us/samples/azure-samples/container-apps-openai/container-apps-openai/)\n"
   ]
  },
  {
   "cell_type": "code",
   "execution_count": 29,
   "metadata": {},
   "outputs": [],
   "source": [
    "llm = AzureChatOpenAI(\n",
    "            openai_api_type=\"azure\",\n",
    "            openai_api_version=AZURE_OPENAI_API_VERSION,\n",
    "            openai_api_key=AZURE_API_KEY1,\n",
    "            azure_endpoint=AZURE_ENDPOINT,\n",
    "            temperature=0.7,\n",
    "            max_tokens=4096,\n",
    "            azure_deployment=AZURE_CHATGPT_DEPLOYMENT,\n",
    "            streaming=True,\n",
    "            max_retries=3,\n",
    "            timeout=60,\n",
    "        )\n",
    "\n",
    "chain = RetrievalQAWithSourcesChain.from_chain_type(\n",
    "    llm=llm, \n",
    "    chain_type=\"stuff\", \n",
    "    retriever=retriever\n",
    ")\n",
    "\n",
    "def prettychain(question: str) -> str:\n",
    "    \"\"\"Pretty print the chain's response to a question\"\"\"\n",
    "    # with streaming\n",
    "    # chunks = []\n",
    "    # for chunk in chain.stream({\"question\": question}):\n",
    "    #     yield chunk['answer']\n",
    "    #     time.sleep(0.05)\n",
    "        # print(chunk['answer'], end=\"|\", flush=True)\n",
    "    ## with no streaming\n",
    "    response = chain({\"question\": question},\n",
    "                    return_only_outputs=True)\n",
    "    print(textwrap.fill(response['answer'], 150))"
   ]
  },
  {
   "cell_type": "markdown",
   "metadata": {},
   "source": [
    "- ask gpt a question"
   ]
  },
  {
   "cell_type": "code",
   "execution_count": 30,
   "metadata": {},
   "outputs": [
    {
     "name": "stdout",
     "output_type": "stream",
     "text": [
      "To resolve the issue of not being able to open your file with the EasyBuilder software, it appears that the problem is related to the version of the\n",
      "software you are using. Several users have reported similar issues where older files or files from different versions cannot be opened with their\n",
      "current version of EasyBuilder.  Here are some steps you can try:  1. **Identify the Correct Version**: Ensure you are using the latest version of\n",
      "EasyBuilder Pro. You might need a newer version than the one you currently have. For example, one user reported that even with EasyBuilder Pro\n",
      "6.03.01.239, they encountered issues (\n"
     ]
    }
   ],
   "source": [
    "prettychain(\"I can not open my file with your easybuilder software. please help me\")"
   ]
  },
  {
   "cell_type": "code",
   "execution_count": null,
   "metadata": {},
   "outputs": [],
   "source": []
  }
 ],
 "metadata": {
  "kernelspec": {
   "display_name": "rag",
   "language": "python",
   "name": "python3"
  },
  "language_info": {
   "codemirror_mode": {
    "name": "ipython",
    "version": 3
   },
   "file_extension": ".py",
   "mimetype": "text/x-python",
   "name": "python",
   "nbconvert_exporter": "python",
   "pygments_lexer": "ipython3",
   "version": "3.11.7"
  }
 },
 "nbformat": 4,
 "nbformat_minor": 2
}
